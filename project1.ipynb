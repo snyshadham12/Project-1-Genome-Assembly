{
 "cells": [
  {
   "cell_type": "markdown",
   "id": "7da87395",
   "metadata": {},
   "source": [
    "# Project 1: Assembling Genomes"
   ]
  },
  {
   "cell_type": "markdown",
   "id": "a9645da6",
   "metadata": {},
   "source": [
    "\n",
    "   <div class=\"alert alert-block alert-danger\">\n",
    "    <center>Due: <b>Tuesday, 8 February, 4:59pm</b>.</center> \n",
    "   </div>\n",
    "   \n",
    "   <div class=\"alert alert-block alert-warning\">\n",
    "   <center>\n",
    "       <b>Collaboration and Resource Policy</b>\n",
    "    </center>\n",
    "    For this assignment, you are encouraged to work with one other person. Your team must satisfy the constraints mentioned in <a href=\"https://www.dropbox.com/s/g6z2xncwc4jsplp/csbio-class2-inked.pdf?dl=0\">Class 2</a>.\n",
    "    \n",
    "   1. You went to different high schools.\n",
    "   2. You and your partner have different answers to <em>at least one</em> of these questions:\n",
    "       - What country were you born in?\n",
    "       - Have you taken any biology courses at UVA?\n",
    "       - Have you taken cs3102?\n",
    "       - Have you taken cs4102?\n",
    "    \n",
    "We expect most students will have the best learning experience on this assignment by working with a partner, but if you prefer to work alone it is okay to do this assignment on your own.\n",
    "    \n",
    "You are permitted (actually _encouraged_) to discuss these problems with anyone you want, including other students in the class. If you do discuss the specific questions in the assignment with anyone other than your assignment partner and the course staff, though, you should list them in the _External resources used_ section below.\n",
    "    \n",
    "You are welcome to use any resources you want for this assignment, other than ones that would defeat the purpose of the assignment. This means you should not look at answers or code from any other students in the class (other than your collaboration with your partner), and if you find code that implements the problem you are being asked to do for the assignment, you should not use that code. You should document all external resource you use that are not part of the course materials in the _External resources used_ section below."
   ]
  },
  {
   "cell_type": "markdown",
   "id": "14179769",
   "metadata": {},
   "source": [
    "**Team submitting this assignment:**  \n",
    "<div class=\"alert alert-success\">\n",
    "    <b><em>Sindhu Mente (snm6dhh)</em></b><br>\n",
    "    <b><em>Shruthi Nyshadham (sn5hnj)</em></b>\n",
    "</div>\n",
    "\n",
    "**External resources used:** \n",
    "<div class=\"alert alert-success\">\n",
    "<em>It is not necessary to list the course materials, but if you used any other resources, including discussing problems with students not on your team, list them here.</em>\n",
    "</div>"
   ]
  },
  {
   "cell_type": "markdown",
   "id": "57bc46a1",
   "metadata": {},
   "source": [
    "In this project, we will explore genome assembly — the process of determining the order of nucleotides from fragmented reads that are produced by sequencing machines. \n",
    "\n",
    "Genome assembly maps to a very well defined computer science problem, but can get quite complicated, as problems such as full sequence coverage, finding a good length for reads (the $k$ in $k$-mer), and sequencing errors present challenges for sequencing analysis and accuracy. For the required problems (ones everyone is expected to solve), you will be able to assume perfect coverage and no read errors; for the \"challenge\" problem (that is considered a bonus, and not something we expect everyone to be able to solve, and perhaps may not even be feasible for anyone to solve) you will not be able to rely on such assumptions."
   ]
  },
  {
   "cell_type": "markdown",
   "id": "b701651a",
   "metadata": {},
   "source": [
    " <div class=\"alert alert-block alert-warning\">\n",
    "    \n",
    "<b>Submission</b>: You should work on this assignment by forking the provided Project 1 repository (you probably already did this, following the instructions posted at [https://computingbiology.github.io/project1](https://computingbiology.github.io/project1). Add the other teammate to as a collaborator with write access (also under the Settings tab) to this repository.\n",
    "    \n",
    "You should answer the questions and write your code in this Jupyter Notebook. (We don't expect you to need to use any external files or organize your code outside of the notebook, but if you do, make sure to put everything needed to run your code in your repository.) Parts where you are expected to provide and answer (which could be text that can be written in markdown format in the notebook or Python code that runs in the notebook) are marked in green.\n",
    "        \n",
    "When you are ready to submit the assignment, you should create a release of the version you are submitting ([github's directions for how to create a release](https://docs.github.com/en/repositories/releasing-projects-on-github/managing-releases-in-a-repository)) tagged as `submit`. After you've done this, send a message in slack to a channel that includes both team members (so the one sending this message should include the other team member) and all of the course staff (`dave`, `Hyun Jae Cho`, and `Anshuman Suri`) and a link to your repository (feel free to add any other useful comments if you want, but the link to your submission repository is sufficient)."
   ]
  },
  {
   "cell_type": "markdown",
   "id": "6ddc5cc5",
   "metadata": {},
   "source": [
    "## Getting Started"
   ]
  },
  {
   "cell_type": "markdown",
   "id": "65e42801",
   "metadata": {},
   "source": [
    "1. Install basic required packages, should be run only once. You may need to restart the jupyter python kernel (under the Kernel menu) after this. (You can execute this directly in the notebook but running the command below.)"
   ]
  },
  {
   "cell_type": "code",
   "execution_count": null,
   "id": "9df18fe5",
   "metadata": {},
   "outputs": [],
   "source": [
    "%pip install -r requirements.txt"
   ]
  },
  {
   "cell_type": "markdown",
   "id": "68cf7d92",
   "metadata": {},
   "source": [
    "2. Make sure you have [graphviz](https://graphviz.org/) installed on your system. (On a Mac OS X, `brew install graphviz`. For other platforms, see [_https://graphviz.org/download/_](https://graphviz.org/download/).)"
   ]
  },
  {
   "cell_type": "code",
   "execution_count": null,
   "id": "d39abe1f",
   "metadata": {},
   "outputs": [],
   "source": [
    "import collections\n",
    "import matplotlib.pyplot as plt\n",
    "\n",
    "import utils"
   ]
  },
  {
   "cell_type": "markdown",
   "id": "5554e2bc",
   "metadata": {},
   "source": [
    "## Part 1: Assembling the TeleTubby Genome"
   ]
  },
  {
   "cell_type": "markdown",
   "id": "7985c6cb",
   "metadata": {},
   "source": [
    "For this part, you're given reads generated while trying to sequence the DNA of a mysterious unknown organism with a _tiny_ genome. Some of the course staff is not sure what a TeleTubby is, but I've been assured that no cute creatures were harmed in producing this data (which was generated synthetically).\n",
    "\n",
    "By answering the following questions, you will learn how to assemble the original genome sequence from sequence reads.\n",
    "\n",
    "Sequencing data is often stored in the FASTQ file format, with is a simple ASCII format that is somewhat human-readable. \n",
    "\n",
    "In _TeleTubby.fastq_ (which is included in the repository you forked), you will find the data that was read from the TeleTubby genome. Each four lines of the file repeat the same pattern. For example,\n",
    "```\n",
    "@TeleTubby Genome: Project 1\n",
    "TAAAATGG\n",
    "+\n",
    "HAICDF5I\n",
    "```\n",
    "The first line contains the metadata that encodes the name of the read, the experiment type, the kind of sequencing machine used, etc. \n",
    "\n",
    "The second line is the sequence of bases that was read. \n",
    "\n",
    "The third line is just a placeholder.\n",
    "\n",
    "The fourth line is a sequence of base qualities that encodes the qualities for the corresponding bases in the sequence line. We will discuss and use this for Problem 2."
   ]
  },
  {
   "cell_type": "markdown",
   "id": "744fd5da",
   "metadata": {},
   "source": [
    "Read in the data from `TeleTubby.fastq`:"
   ]
  },
  {
   "cell_type": "code",
   "execution_count": null,
   "id": "04406782",
   "metadata": {},
   "outputs": [],
   "source": [
    "# Read sequence reads (error-free) from file\n",
    "sequence_reads, qualities = utils.read_fastq('TeleTubby.fastq')"
   ]
  },
  {
   "cell_type": "markdown",
   "id": "69527f9b",
   "metadata": {},
   "source": [
    "### Melting Temperature\n",
    "\n",
    "The GC-content (or the ratio of G and C nucleotides) is related to the melting temperature of a DNA double helix structure. \n",
    "\n",
    "The following equation can be used to estimate the melting temperature (in degrees Celsius) of DNA for a particular sequence:\n",
    "\n",
    "\\begin{equation*}\n",
    "t_m = 64.9+0.41(\\%GC)-\\frac{500}{\\text{length of sequence}}\n",
    "\\end{equation*}\n",
    "\n",
    "As a reference, the human genome is known to have between 35%-60% GC-content. \n",
    "\n",
    "<div class=\"alert alert-success\">\n",
    "\n",
    "**Problem 1.** Calculate the melting temperature for the TeleTubby genome using the formula above. Assume that the sequence is 200 nucleotides long, and that the provided read data has equal coverage everywhere so the G-C distribution in the reads is very close to the actual G-C distribution for the genome. \n",
    "    </div>"
   ]
  },
  {
   "cell_type": "code",
   "execution_count": null,
   "id": "cd274b8a",
   "metadata": {},
   "outputs": [],
   "source": [
    "# Write code here for calculating the %GC content from the sequence_reads, and computing the estimated melting temperature.\n",
    "total_num_bases = 0\n",
    "num_gc_bases = 0\n",
    "for read in sequence_reads:\n",
    "    total_num_bases += len(read)\n",
    "    for base in read:\n",
    "        if base == 'G' or base == 'C':\n",
    "            num_gc_bases += 1\n",
    "gc_percentage = num_gc_bases / total_num_bases * 100\n",
    "print(\"GC%%: %f\" % (gc_percentage))\n",
    "\n",
    "len_of_sequence = 200\n",
    "melting_temp = 64.9 + (0.41 * gc_percentage) - (500/len_of_sequence)\n",
    "print(\"Melting temperature: %f°C\" % (melting_temp))"
   ]
  },
  {
   "cell_type": "code",
   "execution_count": null,
   "id": "c5cc58d6",
   "metadata": {},
   "outputs": [],
   "source": [
    "# Print out temperature in Celsius\n",
    "print(\"Melting temperature: %f°C\" % (melting_temp))"
   ]
  },
  {
   "cell_type": "markdown",
   "id": "72723374",
   "metadata": {},
   "source": [
    "## Interpreting Read Quality"
   ]
  },
  {
   "cell_type": "markdown",
   "id": "e9a67a93",
   "metadata": {},
   "source": [
    "Phred33 quality scores are represented as the character with an ASCII code equal to its value + 33 (to make them easy to print alongside genome sequences). The Phred scores $Q$ are related to error probabilities $P$ as: $Q = -10 \\log_{10}(P)$. The table linked here provides a mapping from the Phred values provided in a fastq file and the $Q$ values: [Quality Score Encoding](https://support.illumina.com/help/BaseSpace_OLH_009008/Content/Source/Informatics/BS/QualityScoreEncoding_swBS.htm) \n",
    "\n",
    "<div class=\"alert alert-success\">\n",
    "    \n",
    "**Problem 2.** Using the Phred scores, identify the _least likely to be correct_ read in the TeleTubby.fastq data, which is the read with the lowest probability that it contains _no_ errors.\n",
    "\n",
    "</div>"
   ]
  },
  {
   "cell_type": "code",
   "execution_count": null,
   "id": "76758368",
   "metadata": {},
   "outputs": [],
   "source": [
    "# Write your code for Problem 2 here. \n",
    "# It should output the read (nucleotide sequence) with the lowest probability of containing no errors.\n",
    "#print(qualities)\n",
    "\n",
    "quality_sums = []\n",
    "for read in qualities:\n",
    "    q_sum = 0\n",
    "    for char in read:\n",
    "        q = ord(char) - 33\n",
    "        q_sum += q\n",
    "    quality_sums.append(q_sum)\n",
    "\n",
    "min_quality = min(quality_sums)\n",
    "#print(min_quality)\n",
    "min_index = quality_sums.index(min_quality)\n",
    "#print(min_index)\n",
    "print(sequence_reads[min_index])"
   ]
  },
  {
   "cell_type": "markdown",
   "id": "9d9abeb9",
   "metadata": {},
   "source": [
    "Note: For the following problems, you can ignore the read quality scores, and safely assume there are no actual errors in the provided TeleTubby reads."
   ]
  },
  {
   "cell_type": "markdown",
   "id": "8e55395f",
   "metadata": {},
   "source": [
    "## Frequency analysis\n",
    "\n",
    "Looking at repetitions in the sequence can be helpful in estimating the \"redudancy\" in the organisms. Eucaryote genomes have a lot of redundancy, while smaller organisms like bacteria have highly packed genomes. One heuristic to estimate this before actually performing the assembly could be looking at how often certain $k$-mers are repeated.\n",
    "\n",
    "<div class=\"alert alert-success\">\n",
    "    \n",
    "**Problem 3.**\n",
    "    Print out the 3 most frequent <em>k</em>-mers in the TeleTubby reads with their frequencies. (As in Problem 1, doing this from the reads only produces the same result as from the genome if the read coverage is equal everywhere, but it should be a close estimate.)\n",
    "</div>"
   ]
  },
  {
   "cell_type": "code",
   "execution_count": null,
   "id": "bdbd6bc8",
   "metadata": {},
   "outputs": [],
   "source": [
    "# Your code here\n",
    "freq = {}\n",
    "for read in sequence_reads:\n",
    "    if read in freq:\n",
    "        freq[read] += 1\n",
    "    else:\n",
    "        freq[read] = 1\n",
    "sorted_keys = sorted(freq, key=freq.get, reverse=True)\n",
    "for key in sorted_keys[0:3]:\n",
    "    print(\"%s: %s\" % (key, freq[key]))"
   ]
  },
  {
   "cell_type": "markdown",
   "id": "728a612b",
   "metadata": {},
   "source": [
    "## Greedy Assembly"
   ]
  },
  {
   "cell_type": "markdown",
   "id": "36c041ab",
   "metadata": {},
   "source": [
    "Given a set of sequence fragments, the objective of assembly can be viewed as finding the shortest sequence that contains all the fragments.\n",
    "\n",
    "One of the approaches to assemble the genome from the given reads is a greedy algorithm:\n",
    "\n",
    "```\n",
    "while (len(fragments) > 1):\n",
    "   calculate pairwise alignments of all pairs of fragments\n",
    "   merge the two fragments with the largest overlap\n",
    "genome = fragment[0] # the single remaining fragment is the genome\n",
    "```\n"
   ]
  },
  {
   "cell_type": "markdown",
   "id": "35f6e176",
   "metadata": {},
   "source": [
    "<div class=\"alert alert-success\">\n",
    "    \n",
    "**Problem 4 (a)**. What would the runtime be of this algorithm, given $n$ $k$-mer reads? (If you are not sure how to express your answer to this question, review [_Cost of Computation_](https://computingbiology.github.io/complexity/).)\n",
    "    </div>"
   ]
  },
  {
   "cell_type": "markdown",
   "id": "93985b9f",
   "metadata": {},
   "source": [
    "<i>Answer</i>: Θ(n^3)\n",
    "<br>The outer while loop O(n) times, as each round through the loop decreases the number of fragments remaining by 1. The code inside the while loop runs O(n^2) times, as each fragment has to be compared with every other fragment to calculate all the pairwise overlaps. Then to find the two with the biggest overlap, the merge operation has to run O(n) times, making the overall inner code O(n^2). This makes the total function Θ(n^3)."
   ]
  },
  {
   "cell_type": "markdown",
   "id": "6d868a87",
   "metadata": {},
   "source": [
    "<div class=\"alert alert-success\">\n",
    "\n",
    "**Problem 4 (b)**. Is this algorithm guaranteed to find the correct genome? (A good answer will define what _correct_ means here, and explain why the algorithm is or is not guaranteed to find it.)"
   ]
  },
  {
   "cell_type": "markdown",
   "id": "12bfc75b",
   "metadata": {},
   "source": [
    "<i>Answer</i>: A <i>correct</i> genome would be a genome sequence that is the same as the actual DNA sequence found biologically in the organism. This algorithm is not guaranteed to find this correct genome, because if there are repeated sequences in the actual DNA sequence that should not be overlapped, this algorithm would likely incorrectly overlap them, resulting in an incorrect final sequence that is missing some of the natural repeats in the real, biological genome."
   ]
  },
  {
   "cell_type": "markdown",
   "id": "44685e7e",
   "metadata": {},
   "source": [
    "## Graph-based Assembly"
   ]
  },
  {
   "cell_type": "markdown",
   "id": "c9d33cc7",
   "metadata": {},
   "source": [
    "Graphs for genome assembly can be constructed in two ways:\n",
    "\n",
    "- de Bruijn graph: Processing $k-$mers as nodes, with $(k-1)-$mers as edges, and\n",
    "- Overlap graph: Processing $k-$mers as edges, with $(k-1)-$mers as nodes.\n",
    "\n",
    "A de Bruijn graph can be processed to find Euler paths, while Overlap graphs can be processed to find Hamiltonian paths. Both of these methods can be used reconstruct the original genome.\n",
    "\n",
    "<div class=\"alert alert-success\">\n",
    "    \n",
    "**Problem 5.**  Use one of these two techniques to reconstruct the TeleTubby genome from the provided sequence reads. \n",
    "    \n",
    "</div>\n",
    "    \n",
    "We have provided some template code below that may be helpful (but feel free to ignore this is you prefer)."
   ]
  },
  {
   "cell_type": "code",
   "execution_count": null,
   "id": "c50bc332",
   "metadata": {},
   "outputs": [],
   "source": [
    "# Read reads into graph\n",
    "\n",
    "def build_graph(k_mers):\n",
    "    k_mers = list(set(k_mers))\n",
    "    edges = []\n",
    "    nodes = set()\n",
    "    prefix_len = len(k_mers[0]) - 1\n",
    "    \n",
    "    for read in k_mers:\n",
    "        nodes.add(read[0:prefix_len])\n",
    "        nodes.add(read[1:prefix_len+1])\n",
    "        edges.append([read[0:prefix_len], read[1:prefix_len+1]])\n",
    "        \n",
    "    return nodes, edges"
   ]
  },
  {
   "cell_type": "code",
   "execution_count": null,
   "id": "e919af9e",
   "metadata": {},
   "outputs": [],
   "source": [
    "#verify that the graph is nearly balanced, and find the start/end nodes that are unbalanced\n",
    "#also set up graph as adjacency list\n",
    "def check_balances(nodes, edges):\n",
    "    start_freq = {}\n",
    "    end_freq = {}\n",
    "    edges_remaining = {}\n",
    "\n",
    "    for edge in edges:\n",
    "        start_node = edge[0]\n",
    "        end_node = edge[1]\n",
    "        if start_node in start_freq:\n",
    "            start_freq[start_node] += 1\n",
    "        else:\n",
    "            start_freq[start_node] = 1\n",
    "        if end_node in end_freq:\n",
    "            end_freq[end_node] += 1\n",
    "        else:\n",
    "            end_freq[end_node] = 1\n",
    "\n",
    "        #set up edges_remaining as adjacency list\n",
    "        if start_node in edges_remaining:\n",
    "            adj_list = edges_remaining[start_node]\n",
    "            adj_list.append(end_node)\n",
    "            edges_remaining[start_node] = adj_list\n",
    "        else:\n",
    "            adj_list = []\n",
    "            adj_list.append(end_node)\n",
    "            edges_remaining[start_node] = adj_list\n",
    "\n",
    "    \n",
    "    #find start\n",
    "    larger_outdegree = []\n",
    "    for node in start_freq.keys():\n",
    "        if node not in end_freq.keys():\n",
    "            larger_outdegree.append(node)\n",
    "        elif start_freq[node] > end_freq[node]:\n",
    "            larger_outdegree.append(node)\n",
    "    \n",
    "    #find end\n",
    "    larger_indegree = []\n",
    "    for node in end_freq.keys():\n",
    "        if node not in start_freq.keys():\n",
    "            larger_indegree.append(node)\n",
    "        elif start_freq[node] < end_freq[node]:\n",
    "            larger_indegree.append(node)\n",
    "\n",
    "    print(larger_outdegree)\n",
    "    print(larger_indegree)\n",
    "    \n",
    "    del start_freq\n",
    "    del end_freq\n",
    "    \n",
    "    return edges_remaining, larger_outdegree[0], larger_indegree[0]"
   ]
  },
  {
   "cell_type": "code",
   "execution_count": null,
   "id": "60942c1e",
   "metadata": {},
   "outputs": [],
   "source": [
    "#find eulerian path\n",
    "def find_eulerian_path(nodes, edges, start_node, end_node):\n",
    "    \n",
    "    #add edge between start and end nodes to create Eulerian cycle\n",
    "    adj_list = []\n",
    "    adj_list.append(start_node)\n",
    "    edges[end_node] = adj_list\n",
    "    \n",
    "    print(\"STARTS\")\n",
    "    \n",
    "    #get the first cycle\n",
    "    visited = set()\n",
    "    cycle = find_cycle(nodes, edges, start_node, start_node, visited)\n",
    "    print(\"FIRST CYCLE\")\n",
    "    print(len(cycle))\n",
    "    \n",
    "    #remove each edge used in the cycle from remaining edges\n",
    "    for i in range(0, len(cycle) - 1):\n",
    "        node = cycle[i]\n",
    "        adj_list = edges[node]\n",
    "        adj_list.remove(cycle[i+1])\n",
    "        if len(adj_list) >= 1: #there are still outgoing edges from that node\n",
    "            edges[node] = adj_list\n",
    "        else: #no more outgoing edges from that node\n",
    "            del edges[node]\n",
    "    \n",
    "    #while there are unvisited edges, continue building cycles\n",
    "    while edges:\n",
    "        #find newStart node with unexplored edges that is part of cycle\n",
    "        new_start = None\n",
    "        for node in cycle:\n",
    "            if node in edges:\n",
    "                new_start = node\n",
    "                break\n",
    "        \n",
    "        #re-traverse old cycle from the new start node\n",
    "#         new_start_index = cycle.index(new_start)\n",
    "#         new_cycle = []\n",
    "#         for i in range(new_start_index, len(cycle) - 1):\n",
    "#             new_cycle.append(cycle[i])\n",
    "#         for i in range(0, new_start_index):\n",
    "#             new_cycle.append(cycle[i])\n",
    "#         cycle = new_cycle\n",
    "        \n",
    "        new_start_index = cycle.index(new_start)\n",
    "        new_cycle = cycle[new_start_index:(len(cycle) - 1)] + cycle[0:new_start_index]\n",
    "        cycle = new_cycle\n",
    "        \n",
    "        #get next cycle\n",
    "        visited = set()\n",
    "        new_cycle = find_cycle(nodes, edges, new_start, new_start, visited)\n",
    "        print(\"INNER CYCLE\")\n",
    "        print(len(new_cycle))\n",
    "        \n",
    "        #remove each edge used in the cycle from remaining edges\n",
    "        for i in range(0, len(new_cycle) - 1):\n",
    "            node = new_cycle[i]\n",
    "            adj_list = edges[node]\n",
    "            adj_list.remove(new_cycle[i+1])\n",
    "            if len(adj_list) >= 1: #there are still outgoing edges from that node\n",
    "                edges[node] = adj_list\n",
    "            else: #no more outgoing edges from that node\n",
    "                del edges[node]\n",
    "        \n",
    "        #grow cycle to encompass new cycle\n",
    "        cycle += new_cycle\n",
    "    \n",
    "    print(\"FOUND EULERIAN CYCLE\")\n",
    "    #from cycle, extract Eulerian path        \n",
    "    path = []\n",
    "    true_start_index = cycle.index(start_node)\n",
    "    for i in range(true_start_index, len(cycle) - 1):\n",
    "        #print(cycle[i], end=\" \")\n",
    "        path.append(cycle[i])\n",
    "    for i in range(0, true_start_index):\n",
    "        #print(cycle[i], end=\" \")\n",
    "        path.append(cycle[i])\n",
    "    return path"
   ]
  },
  {
   "cell_type": "code",
   "execution_count": null,
   "id": "bbc22120",
   "metadata": {},
   "outputs": [],
   "source": [
    "#find eulerian cycle in given graph\n",
    "def find_cycle(nodes, edges, start, current, visited):\n",
    "    print(current)\n",
    "    \n",
    "    if current == start and current in visited: #if we have found the start again (but skip this initially)\n",
    "        cycle = []\n",
    "        cycle.append(current)\n",
    "        return cycle\n",
    "    \n",
    "    else:\n",
    "        visited.add(current)\n",
    "        if current in edges: #if there are outgoing edges\n",
    "            for adj_node in edges[current]: #try every possible outgoing edge to an unvisited node\n",
    "                if adj_node not in visited or adj_node == start:\n",
    "                    cycle = find_cycle(nodes, edges, start, adj_node, visited)\n",
    "                    if cycle != []: #if have found the desired cycle, return the cycle; otherwise, keep trying\n",
    "                        cycle.insert(0, current)\n",
    "                        return cycle\n",
    "        return []"
   ]
  },
  {
   "cell_type": "code",
   "execution_count": null,
   "id": "711dd238",
   "metadata": {},
   "outputs": [],
   "source": [
    "#define main assembly algorithm\n",
    "def assemble_sequence(nodes, edges, start, end):\n",
    "    seq = \"\"\n",
    "    \n",
    "    #find eulerian path\n",
    "    path = find_eulerian_path(nodes, edges, start, end)\n",
    "    \n",
    "    #assemble genome from eulerian path\n",
    "    seq += path[0]\n",
    "    del path[0]\n",
    "    for suffix in path:\n",
    "        seq += suffix[-1]\n",
    "    return seq"
   ]
  },
  {
   "cell_type": "code",
   "execution_count": null,
   "id": "3c4f6bfc",
   "metadata": {
    "scrolled": true
   },
   "outputs": [],
   "source": [
    "# Output assembled sequence\n",
    "# Hint: Sequence is 200 nucleotides long\n",
    "nodes, edges = build_graph(sequence_reads)\n",
    "edges_remaining, start, end = check_balances(nodes, edges)\n",
    "assembled_seq = assemble_sequence(nodes, edges_remaining, start, end)\n",
    "print(\"Sequence: %s\" % (assembled_seq))\n",
    "print(\"Sequence length: %d\" % len(assembled_seq))"
   ]
  },
  {
   "cell_type": "code",
   "execution_count": null,
   "id": "93131d20",
   "metadata": {},
   "outputs": [],
   "source": [
    "# Needed to properly visualize graphs\n",
    "%load_ext gvmagic"
   ]
  },
  {
   "cell_type": "code",
   "execution_count": null,
   "id": "d4875c1b",
   "metadata": {},
   "outputs": [],
   "source": [
    "# Helper function to visualize graphs\n",
    "%dotstr utils.viz_graph(nodes, edges)"
   ]
  },
  {
   "cell_type": "markdown",
   "id": "91454973",
   "metadata": {},
   "source": [
    "<div class=\"alert alert-success\"> \n",
    "    \n",
    "**Problem 6.** Which of the two assembly methods did you use for problem 5, and why? (Hint: consider how the costs scale with the number of reads.)\n",
    "    \n",
    "</div>"
   ]
  },
  {
   "cell_type": "markdown",
   "id": "4fa17942",
   "metadata": {},
   "source": [
    "<i>Answer</i>: We used a de Bruijn graph, and found an Eulerian path through that graph, in order to assembly the genome. This was done because it grows much more efficiently for large numbers of reads compared to finding a Hamiltonian path through the overlap graph."
   ]
  },
  {
   "cell_type": "markdown",
   "id": "9c68ae0c",
   "metadata": {},
   "source": [
    "## Part 2: Sequencing SARS-CoV-2 virus"
   ]
  },
  {
   "cell_type": "markdown",
   "id": "bb9104f8",
   "metadata": {},
   "source": [
    "Let's move on from TeleTubbies to real-world organisms. For this problem, you'll assemble a genome for a variant of the SARS-CoV-2 virus. You're given reads from <i>actual</i> genome sequencing runs in the provided `SARS-CoV2.fastq` file. The file is based on the first Covid genome that was submitted on 5 January 2020: [https://www.ncbi.nlm.nih.gov/nuccore/NC_045512](https://www.ncbi.nlm.nih.gov/nuccore/NC_045512) But, you should be reconstructing a sequence from the provided reads without looking at the source sequence.\n",
    "\n",
    "<div class=\"alert alert-success\">\n",
    "    \n",
    "**Problem 7.**  Reconstruct the SATS-CoV2 genome from the provided sequence reads using $k=25$. \n",
    "    \n",
    "</div>\n",
    "\n",
    "You can re-use your implementation from Problem 5 and simply run it on the new data (depending on what you did for Problem 5, that might be enough to solve this problem). \n",
    "\n",
    "Print out your reconstructed sequence to a file `output.txt` (and add this file to the repo you submit). For this part, we will still assume that all the reads are error-free. "
   ]
  },
  {
   "cell_type": "code",
   "execution_count": null,
   "id": "490daca9",
   "metadata": {},
   "outputs": [],
   "source": [
    "# Read sequence reads\n",
    "sequence_reads_covid, qualities_covid = utils.read_fastq('SARS-CoV2.fastq')"
   ]
  },
  {
   "cell_type": "code",
   "execution_count": null,
   "id": "65457a2f",
   "metadata": {},
   "outputs": [],
   "source": [
    "# Read reads into graph\n",
    "nodes_covid, edges_covid = build_graph(sequence_reads_covid)\n",
    "edges_remaining_covid, start_covid, end_covid = check_balances(nodes_covid, edges_covid)\n",
    "del edges_covid"
   ]
  },
  {
   "cell_type": "code",
   "execution_count": null,
   "id": "61829a1a",
   "metadata": {},
   "outputs": [],
   "source": [
    "print(len(sequence_reads_covid))\n",
    "print(len(nodes_covid))"
   ]
  },
  {
   "cell_type": "code",
   "execution_count": null,
   "id": "3dfbe110",
   "metadata": {},
   "outputs": [],
   "source": [
    "#call main assembly algorithm\n",
    "assembled_covid_seq = assemble_sequence(nodes_covid, edges_remaining_covid, start_covid, end_covid)"
   ]
  },
  {
   "cell_type": "code",
   "execution_count": null,
   "id": "b8818bf5",
   "metadata": {},
   "outputs": [],
   "source": [
    "# Write assembled sequence to file\n",
    "with open(\"output.txt\", \"w\") as f:\n",
    "    f.write(assembled_covid_seq)"
   ]
  },
  {
   "cell_type": "markdown",
   "id": "a3cc7d97",
   "metadata": {},
   "source": [
    "# Part 3: Error-Aware Assembly (Challenge Problem)"
   ]
  },
  {
   "cell_type": "markdown",
   "id": "9c03fa24",
   "metadata": {},
   "source": [
    "<div class=\"alert alert-warning\">\n",
    "    This problem is a \"Challenge Problem\". This means it is a problem of unknown difficulty that might be quite challenging (unlike the earlier problems, we don't have a reference solution for this one, or a clear idea how hard it might be). We do hope all students will at least attempt this and that more ambitious students will work hard to solve it and learn interesting things by the attempt (whether or not it is successful), but not get frustrated if you can't get to the desired answer.  As a \"Challenge Problem\" it means that you shouldn't be worried if you are not able to solve this, though, and you can get full expected credit on this assignment without answering it.\n",
    "</div>\n",
    "\n",
    "\n",
    "In the parts above, we assumed error-free reads while assembling $k$-mers. As much as we'd like that, actual reads can (and do) have errors, captured by their Phred scores. \n",
    "\n",
    "For this question, you're given raw, actual reads from sequencing runs. Download the reads from this file:\n",
    "https://sra-pub-sars-cov2.s3.amazonaws.com/sra-src/SRR11528307/ABS2-LN-R1_cleaned_paired.fastq.gz.  \n",
    "\n",
    "\n",
    "<div class=\"alert alert-success\">\n",
    "    \n",
    "**Problem 8 (Challenge).** Give the reads in the linked fastq file above, including their Phred33 quality score, assemble the most likely genome. Your solution should output the assembled sequence in `challenge.txt`. Provide a brief explantion of how your algorithm works and interesting things you learned in developing it.\n",
    "    \n",
    "</div>\n",
    "    \n",
    "This is an open-ended question. You are free to use any approach to deal with the issue. Make sure you provide your code, along with any assumptions you may have."
   ]
  },
  {
   "cell_type": "markdown",
   "id": "5d7e82e1",
   "metadata": {},
   "source": [
    "_Write a description of your algorithm, and things you learned from working on this here._"
   ]
  },
  {
   "cell_type": "code",
   "execution_count": null,
   "id": "4594e10b",
   "metadata": {},
   "outputs": [],
   "source": [
    "# implementation "
   ]
  },
  {
   "cell_type": "markdown",
   "id": "89a97c21",
   "metadata": {},
   "source": [
    "   <div class=\"alert alert-block alert-danger\">\n",
    "    <center>\n",
    "        \n",
    " **Remember to follow the submission directions above to submit your assignment by 4:59pm on Tuesday, 8 February.**\n",
    "    \n",
    " </center>\n",
    " </div>"
   ]
  }
 ],
 "metadata": {
  "kernelspec": {
   "display_name": "Python 3 (ipykernel)",
   "language": "python",
   "name": "python3"
  },
  "language_info": {
   "codemirror_mode": {
    "name": "ipython",
    "version": 3
   },
   "file_extension": ".py",
   "mimetype": "text/x-python",
   "name": "python",
   "nbconvert_exporter": "python",
   "pygments_lexer": "ipython3",
   "version": "3.7.9"
  }
 },
 "nbformat": 4,
 "nbformat_minor": 5
}
